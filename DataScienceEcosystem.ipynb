{
 "cells": [
  {
   "cell_type": "markdown",
   "id": "bbd9ee98-2060-4231-b77d-eca776599af7",
   "metadata": {},
   "source": [
    "# Data Science Tools And Ecostystems "
   ]
  },
  {
   "cell_type": "markdown",
   "id": "eb3b989e-3481-4b32-9970-3ae916800cf1",
   "metadata": {},
   "source": [
    "In this notebook, Data Science Tools and Ecosystem are summarized."
   ]
  },
  {
   "cell_type": "markdown",
   "id": "418f50fe-256f-4617-bcf0-ed0c4dcc6171",
   "metadata": {},
   "source": [
    "Some of the popular languages that Data Scientists use are:\n",
    "\n",
    "**Objectives:**\n",
    "\n",
    "+ Python\n",
    "+ R\n",
    "+ C++\n",
    "+ Java Script"
   ]
  },
  {
   "cell_type": "markdown",
   "id": "a3f6b031-bce0-4ce1-8500-ca1836d7062e",
   "metadata": {},
   "source": [
    "Some of the commonly used libraries used by Data Scientists include:\n",
    "\n",
    "1. Pandas\n",
    "2. Numpy\n",
    "3. Matplotlib\n",
    "4. Seaborn\n",
    "5. Scikit-Learn"
   ]
  },
  {
   "cell_type": "markdown",
   "id": "d4266546-369c-4cc8-934b-64ee03ff9af5",
   "metadata": {},
   "source": [
    "|Data Science Tools|\n",
    "-----------------\n",
    "|Jupyter Notebooks|\n",
    "|R Studio|\n",
    "|Visual Studio Code (VS Code)|"
   ]
  },
  {
   "cell_type": "markdown",
   "id": "63476979-5dbc-481f-9431-50b21122ad31",
   "metadata": {},
   "source": [
    "### Below are a few examples of evaluating arithmetic expressions in Python"
   ]
  },
  {
   "cell_type": "code",
   "execution_count": 3,
   "id": "065a5b0f-7202-4264-8220-d2111af02fed",
   "metadata": {},
   "outputs": [
    {
     "data": {
      "text/plain": [
       "17"
      ]
     },
     "execution_count": 3,
     "metadata": {},
     "output_type": "execute_result"
    }
   ],
   "source": [
    "(3*4)+5\n",
    "\n",
    "# This a simple arithmetic expression to mutiply then add integers"
   ]
  },
  {
   "cell_type": "code",
   "execution_count": 7,
   "id": "0f9b1432-58d0-4122-a279-91dd17843dd2",
   "metadata": {},
   "outputs": [
    {
     "data": {
      "text/plain": [
       "3.3333333333333335"
      ]
     },
     "execution_count": 7,
     "metadata": {},
     "output_type": "execute_result"
    }
   ],
   "source": [
    "# This will convert 200 minutes to hours by dividing by 60\n",
    "\n",
    "minutes = 200\n",
    "hours = minutes / 60\n",
    "hours\n"
   ]
  },
  {
   "cell_type": "markdown",
   "id": "5180001c-d5aa-4530-87d0-1c51fb01ea5f",
   "metadata": {},
   "source": [
    "## Author\n",
    "Wesley Anderson(GeekHibrid)"
   ]
  },
  {
   "cell_type": "code",
   "execution_count": null,
   "id": "08e9c082-4a7a-46e4-b493-efdd5e34eecf",
   "metadata": {},
   "outputs": [],
   "source": []
  }
 ],
 "metadata": {
  "kernelspec": {
   "display_name": "Python 3 (ipykernel)",
   "language": "python",
   "name": "python3"
  },
  "language_info": {
   "codemirror_mode": {
    "name": "ipython",
    "version": 3
   },
   "file_extension": ".py",
   "mimetype": "text/x-python",
   "name": "python",
   "nbconvert_exporter": "python",
   "pygments_lexer": "ipython3",
   "version": "3.11.7"
  }
 },
 "nbformat": 4,
 "nbformat_minor": 5
}
